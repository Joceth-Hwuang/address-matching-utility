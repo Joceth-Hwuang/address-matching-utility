{
 "cells": [
  {
   "cell_type": "code",
   "execution_count": null,
   "id": "2642231d",
   "metadata": {},
   "outputs": [],
   "source": [
    "from rapidfuzz import fuzz\n",
    "from sentence_transformers import SentenceTransformer, util\n",
    "import streamlit as st\n",
    "import pandas as pd"
   ]
  },
  {
   "cell_type": "code",
   "execution_count": null,
   "id": "7ef64d8b",
   "metadata": {},
   "outputs": [],
   "source": [
    "# streamlit\n",
    "\n",
    "# header\n",
    "st.title(\"Address Matching with SBERT-LaBSE\")\n",
    "\n",
    "# header-description\n",
    "st.write(\"Murdoch MSc. IT TSA2025 ICT619 Project Assignment\")\n",
    "st.write(\"Group1 Student IDs: 35370919, 35427755, 35059342\")\n",
    "st.divider()\n",
    "\n",
    "# file upload\n",
    "st.write(\"Please upload your excel workbook in this format\")\n",
    "st.write(\"Column A = Address Unique ID. This helps you identify the address\")\n",
    "st.write(\"Column B = Source Address\")\n",
    "st.write(\"Column C = Target Address\")\n",
    "st.divider()\n",
    "\n",
    "# file upload widget\n",
    "file_uploaded = st.file_uploader(\"Upload an Excel Workbook\", type=[\"xlsx\", \"xls\"])"
   ]
  },
  {
   "cell_type": "code",
   "execution_count": null,
   "id": "288ca973",
   "metadata": {},
   "outputs": [],
   "source": [
    "# extract\n",
    "if file_uploaded:\n",
    "    read_df = pd.read_excel(file_uploaded)\n",
    "    st.write(\"Preview of uploaded data\")\n",
    "    st.dataframe(df.head(5))\n",
    "else: \n",
    "    st.write(\"File not uploaded\")\n",
    "\n",
    "\n",
    "# open dataframe"
   ]
  },
  {
   "cell_type": "code",
   "execution_count": null,
   "id": "f7acdb91",
   "metadata": {},
   "outputs": [],
   "source": []
  }
 ],
 "metadata": {
  "kernelspec": {
   "display_name": "Python 3 (ipykernel)",
   "language": "python",
   "name": "python3"
  },
  "language_info": {
   "codemirror_mode": {
    "name": "ipython",
    "version": 3
   },
   "file_extension": ".py",
   "mimetype": "text/x-python",
   "name": "python",
   "nbconvert_exporter": "python",
   "pygments_lexer": "ipython3",
   "version": "3.11.7"
  }
 },
 "nbformat": 4,
 "nbformat_minor": 5
}
