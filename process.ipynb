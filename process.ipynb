{
 "cells": [
  {
   "cell_type": "code",
   "execution_count": null,
   "id": "5a254617",
   "metadata": {},
   "outputs": [],
   "source": [
    "from rapidfuzz import fuzz\n",
    "from sentence_transformers import SentenceTransformer, util\n",
    "import streamlit as st\n",
    "import pandas as pd"
   ]
  },
  {
   "cell_type": "code",
   "execution_count": null,
   "id": "2c9c5f7f",
   "metadata": {},
   "outputs": [],
   "source": [
    "# streamlit UI display\n",
    "\n",
    "class AppUserInterface:\n",
    "    \n",
    "    uploaded_file = []\n",
    "    \n",
    "    @classmethod\n",
    "    def execute(cls):\n",
    "        \"\"\"\n",
    "        main method\n",
    "        \"\"\"\n",
    "        cls.headings()\n",
    "        cls.upload_widget()\n",
    "        while not uploaded_file:\n",
    "            cls.upload_widget()\n",
    "    \n",
    "    @classmethod    \n",
    "    def headings(cls):    \n",
    "        st.title(\"Address Matching with SBERT-LaBSE\")\n",
    "        st.write(\"Murdoch MSc. IT TSA2025 ICT619 Project Assignment\")\n",
    "        st.write(\"Group1 Student IDs: 35370919, 35427755, 35059342\")\n",
    "        st.divider()\n",
    "        st.write(\"Please upload your excel workbook in this format\")\n",
    "        st.write(\"Column A = Address Unique ID. This helps you identify the address\")\n",
    "        st.write(\"Column B = Source Address\")\n",
    "        st.write(\"Column C = Target Address\")\n",
    "        st.divider()\n",
    "\n",
    "    @classmethod\n",
    "    def upload_widget(cls):\n",
    "        cls.uploaded_file.append(\n",
    "        st.file_uploader(\"Upload an Excel Workbook\", type=[\"xlsx\", \"xls\"])\n",
    "        )\n",
    "    \n",
    "    "
   ]
  },
  {
   "cell_type": "code",
   "execution_count": null,
   "id": "ab76d663",
   "metadata": {},
   "outputs": [],
   "source": []
  }
 ],
 "metadata": {
  "kernelspec": {
   "display_name": "Python 3 (ipykernel)",
   "language": "python",
   "name": "python3"
  },
  "language_info": {
   "codemirror_mode": {
    "name": "ipython",
    "version": 3
   },
   "file_extension": ".py",
   "mimetype": "text/x-python",
   "name": "python",
   "nbconvert_exporter": "python",
   "pygments_lexer": "ipython3",
   "version": "3.11.7"
  }
 },
 "nbformat": 4,
 "nbformat_minor": 5
}
